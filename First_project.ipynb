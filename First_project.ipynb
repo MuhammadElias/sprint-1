{
 "cells": [
  {
   "cell_type": "markdown",
   "id": "7d928d78",
   "metadata": {},
   "source": [
    "Hello Muhammad!\n",
    "\n",
    "My name is Dmitry.  I'm glad to review your work today.\n",
    "I will mark your mistakes and give you some hints how it is possible to fix them. We are getting ready for real job, where your team leader/senior colleague will do exactly the same. Don't worry and study with pleasure! \n",
    "\n",
    "Below you will find my comments - **please do not move, modify or delete them**.\n",
    "\n",
    "You can find my comments in green, yellow or red boxes like this:\n",
    "\n",
    "<div class=\"alert alert-block alert-success\">\n",
    "<b>Reviewer's comment</b> <a class=\"tocSkip\"></a>\n",
    "\n",
    "Success. Everything is done succesfully.\n",
    "</div>\n",
    "\n",
    "<div class=\"alert alert-block alert-warning\">\n",
    "<b>Reviewer's comment</b> <a class=\"tocSkip\"></a>\n",
    "\n",
    "Remarks. Some recommendations.\n",
    "</div>\n",
    "\n",
    "<div class=\"alert alert-block alert-danger\">\n",
    "\n",
    "<b>Reviewer's comment</b> <a class=\"tocSkip\"></a>\n",
    "\n",
    "Needs fixing. The block requires some corrections. Work can't be accepted with the red comments.\n",
    "</div>\n",
    "\n",
    "You can answer me by using this:\n",
    "\n",
    "<div class=\"alert alert-block alert-info\">\n",
    "<b>Student answer.</b> <a class=\"tocSkip\"></a>\n",
    "\n",
    "Text here.\n",
    "</div>"
   ]
  },
  {
   "cell_type": "markdown",
   "id": "f85a80d2",
   "metadata": {},
   "source": [
    "## Basic Python - Project <a id='intro'></a>"
   ]
  },
  {
   "cell_type": "markdown",
   "id": "a1262df4",
   "metadata": {},
   "source": [
    "## Introduction <a id='intro'></a>\n",
    "In this project, you will work with data from the entertainment industry. You will study a dataset with records on movies and shows. The research will focus on the \"Golden Age\" of television, which began in 1999 with the release of *The Sopranos* and is still ongoing.\n",
    "\n",
    "The aim of this project is to investigate how the number of votes a title receives impacts its ratings. The assumption is that highly-rated shows (we will focus on TV shows, ignoring movies) released during the \"Golden Age\" of television also have the most votes.\n",
    "\n",
    "### Stages \n",
    "Data on movies and shows is stored in the `/datasets/movies_and_shows.csv` file. There is no information about the quality of the data, so you will need to explore it before doing the analysis.\n",
    "\n",
    "First, you'll evaluate the quality of the data and see whether its issues are significant. Then, during data preprocessing, you will try to account for the most critical problems.\n",
    " \n",
    "Your project will consist of three stages:\n",
    " 1. Data overview\n",
    " 2. Data preprocessing\n",
    " 3. Data analysis"
   ]
  },
  {
   "cell_type": "markdown",
   "id": "ac0593ac",
   "metadata": {},
   "source": [
    "## Stage 1. Data overview <a id='data_review'></a>\n",
    "\n",
    "Open and explore the data."
   ]
  },
  {
   "cell_type": "markdown",
   "id": "e86ed00e",
   "metadata": {},
   "source": [
    "You'll need `pandas`, so import it."
   ]
  },
  {
   "cell_type": "code",
   "execution_count": 1,
   "id": "1727d3f8",
   "metadata": {},
   "outputs": [],
   "source": [
    "# importing pandas\n",
    "import pandas as pd"
   ]
  },
  {
   "cell_type": "markdown",
   "id": "9821beeb",
   "metadata": {},
   "source": [
    "Read the `movies_and_shows.csv` file from the `datasets` folder and save it in the `df` variable:"
   ]
  },
  {
   "cell_type": "code",
   "execution_count": 2,
   "id": "fc5a1402",
   "metadata": {},
   "outputs": [],
   "source": [
    "# reading the files and storing them to df\n",
    "df = pd.read_csv('/datasets/movies_and_shows.csv')"
   ]
  },
  {
   "cell_type": "markdown",
   "id": "1cd0a96d",
   "metadata": {},
   "source": [
    "Print the first 10 table rows:"
   ]
  },
  {
   "cell_type": "code",
   "execution_count": 3,
   "id": "acd92001",
   "metadata": {},
   "outputs": [
    {
     "data": {
      "text/html": [
       "<div>\n",
       "<style scoped>\n",
       "    .dataframe tbody tr th:only-of-type {\n",
       "        vertical-align: middle;\n",
       "    }\n",
       "\n",
       "    .dataframe tbody tr th {\n",
       "        vertical-align: top;\n",
       "    }\n",
       "\n",
       "    .dataframe thead th {\n",
       "        text-align: right;\n",
       "    }\n",
       "</style>\n",
       "<table border=\"1\" class=\"dataframe\">\n",
       "  <thead>\n",
       "    <tr style=\"text-align: right;\">\n",
       "      <th></th>\n",
       "      <th>name</th>\n",
       "      <th>Character</th>\n",
       "      <th>r0le</th>\n",
       "      <th>TITLE</th>\n",
       "      <th>Type</th>\n",
       "      <th>release Year</th>\n",
       "      <th>genres</th>\n",
       "      <th>imdb sc0re</th>\n",
       "      <th>imdb v0tes</th>\n",
       "    </tr>\n",
       "  </thead>\n",
       "  <tbody>\n",
       "    <tr>\n",
       "      <th>0</th>\n",
       "      <td>Robert De Niro</td>\n",
       "      <td>Travis Bickle</td>\n",
       "      <td>ACTOR</td>\n",
       "      <td>Taxi Driver</td>\n",
       "      <td>MOVIE</td>\n",
       "      <td>1976</td>\n",
       "      <td>['drama', 'crime']</td>\n",
       "      <td>8.2</td>\n",
       "      <td>808582.0</td>\n",
       "    </tr>\n",
       "    <tr>\n",
       "      <th>1</th>\n",
       "      <td>Jodie Foster</td>\n",
       "      <td>Iris Steensma</td>\n",
       "      <td>ACTOR</td>\n",
       "      <td>Taxi Driver</td>\n",
       "      <td>MOVIE</td>\n",
       "      <td>1976</td>\n",
       "      <td>['drama', 'crime']</td>\n",
       "      <td>8.2</td>\n",
       "      <td>808582.0</td>\n",
       "    </tr>\n",
       "    <tr>\n",
       "      <th>2</th>\n",
       "      <td>Albert Brooks</td>\n",
       "      <td>Tom</td>\n",
       "      <td>ACTOR</td>\n",
       "      <td>Taxi Driver</td>\n",
       "      <td>MOVIE</td>\n",
       "      <td>1976</td>\n",
       "      <td>['drama', 'crime']</td>\n",
       "      <td>8.2</td>\n",
       "      <td>808582.0</td>\n",
       "    </tr>\n",
       "    <tr>\n",
       "      <th>3</th>\n",
       "      <td>Harvey Keitel</td>\n",
       "      <td>Matthew 'Sport' Higgins</td>\n",
       "      <td>ACTOR</td>\n",
       "      <td>Taxi Driver</td>\n",
       "      <td>MOVIE</td>\n",
       "      <td>1976</td>\n",
       "      <td>['drama', 'crime']</td>\n",
       "      <td>8.2</td>\n",
       "      <td>808582.0</td>\n",
       "    </tr>\n",
       "    <tr>\n",
       "      <th>4</th>\n",
       "      <td>Cybill Shepherd</td>\n",
       "      <td>Betsy</td>\n",
       "      <td>ACTOR</td>\n",
       "      <td>Taxi Driver</td>\n",
       "      <td>MOVIE</td>\n",
       "      <td>1976</td>\n",
       "      <td>['drama', 'crime']</td>\n",
       "      <td>8.2</td>\n",
       "      <td>808582.0</td>\n",
       "    </tr>\n",
       "    <tr>\n",
       "      <th>5</th>\n",
       "      <td>Peter Boyle</td>\n",
       "      <td>Wizard</td>\n",
       "      <td>ACTOR</td>\n",
       "      <td>Taxi Driver</td>\n",
       "      <td>MOVIE</td>\n",
       "      <td>1976</td>\n",
       "      <td>['drama', 'crime']</td>\n",
       "      <td>8.2</td>\n",
       "      <td>808582.0</td>\n",
       "    </tr>\n",
       "    <tr>\n",
       "      <th>6</th>\n",
       "      <td>Leonard Harris</td>\n",
       "      <td>Senator Charles Palantine</td>\n",
       "      <td>ACTOR</td>\n",
       "      <td>Taxi Driver</td>\n",
       "      <td>MOVIE</td>\n",
       "      <td>1976</td>\n",
       "      <td>['drama', 'crime']</td>\n",
       "      <td>8.2</td>\n",
       "      <td>808582.0</td>\n",
       "    </tr>\n",
       "    <tr>\n",
       "      <th>7</th>\n",
       "      <td>Diahnne Abbott</td>\n",
       "      <td>Concession Girl</td>\n",
       "      <td>ACTOR</td>\n",
       "      <td>Taxi Driver</td>\n",
       "      <td>MOVIE</td>\n",
       "      <td>1976</td>\n",
       "      <td>['drama', 'crime']</td>\n",
       "      <td>8.2</td>\n",
       "      <td>808582.0</td>\n",
       "    </tr>\n",
       "    <tr>\n",
       "      <th>8</th>\n",
       "      <td>Gino Ardito</td>\n",
       "      <td>Policeman at Rally</td>\n",
       "      <td>ACTOR</td>\n",
       "      <td>Taxi Driver</td>\n",
       "      <td>MOVIE</td>\n",
       "      <td>1976</td>\n",
       "      <td>['drama', 'crime']</td>\n",
       "      <td>8.2</td>\n",
       "      <td>808582.0</td>\n",
       "    </tr>\n",
       "    <tr>\n",
       "      <th>9</th>\n",
       "      <td>Martin Scorsese</td>\n",
       "      <td>Passenger Watching Silhouette</td>\n",
       "      <td>ACTOR</td>\n",
       "      <td>Taxi Driver</td>\n",
       "      <td>MOVIE</td>\n",
       "      <td>1976</td>\n",
       "      <td>['drama', 'crime']</td>\n",
       "      <td>8.2</td>\n",
       "      <td>808582.0</td>\n",
       "    </tr>\n",
       "  </tbody>\n",
       "</table>\n",
       "</div>"
      ],
      "text/plain": [
       "              name                      Character   r0le        TITLE   Type  \\\n",
       "0   Robert De Niro                  Travis Bickle  ACTOR  Taxi Driver  MOVIE   \n",
       "1     Jodie Foster                  Iris Steensma  ACTOR  Taxi Driver  MOVIE   \n",
       "2    Albert Brooks                            Tom  ACTOR  Taxi Driver  MOVIE   \n",
       "3    Harvey Keitel        Matthew 'Sport' Higgins  ACTOR  Taxi Driver  MOVIE   \n",
       "4  Cybill Shepherd                          Betsy  ACTOR  Taxi Driver  MOVIE   \n",
       "5      Peter Boyle                         Wizard  ACTOR  Taxi Driver  MOVIE   \n",
       "6   Leonard Harris      Senator Charles Palantine  ACTOR  Taxi Driver  MOVIE   \n",
       "7   Diahnne Abbott                Concession Girl  ACTOR  Taxi Driver  MOVIE   \n",
       "8      Gino Ardito             Policeman at Rally  ACTOR  Taxi Driver  MOVIE   \n",
       "9  Martin Scorsese  Passenger Watching Silhouette  ACTOR  Taxi Driver  MOVIE   \n",
       "\n",
       "   release Year              genres  imdb sc0re  imdb v0tes  \n",
       "0          1976  ['drama', 'crime']         8.2    808582.0  \n",
       "1          1976  ['drama', 'crime']         8.2    808582.0  \n",
       "2          1976  ['drama', 'crime']         8.2    808582.0  \n",
       "3          1976  ['drama', 'crime']         8.2    808582.0  \n",
       "4          1976  ['drama', 'crime']         8.2    808582.0  \n",
       "5          1976  ['drama', 'crime']         8.2    808582.0  \n",
       "6          1976  ['drama', 'crime']         8.2    808582.0  \n",
       "7          1976  ['drama', 'crime']         8.2    808582.0  \n",
       "8          1976  ['drama', 'crime']         8.2    808582.0  \n",
       "9          1976  ['drama', 'crime']         8.2    808582.0  "
      ]
     },
     "execution_count": 3,
     "metadata": {},
     "output_type": "execute_result"
    }
   ],
   "source": [
    "# obtaining the first 10 rows from the df table\n",
    "# hint: you can use head() and tail() in Jupyter Notebook without wrapping them into print()\n",
    "df.head(10)"
   ]
  },
  {
   "cell_type": "markdown",
   "id": "e579aa91",
   "metadata": {},
   "source": [
    "Obtain the general information about the table with one command:"
   ]
  },
  {
   "cell_type": "code",
   "execution_count": 4,
   "id": "7bf66d2a",
   "metadata": {},
   "outputs": [
    {
     "name": "stdout",
     "output_type": "stream",
     "text": [
      "<class 'pandas.core.frame.DataFrame'>\n",
      "RangeIndex: 85579 entries, 0 to 85578\n",
      "Data columns (total 9 columns):\n",
      " #   Column        Non-Null Count  Dtype  \n",
      "---  ------        --------------  -----  \n",
      " 0      name       85579 non-null  object \n",
      " 1   Character     85579 non-null  object \n",
      " 2   r0le          85579 non-null  object \n",
      " 3   TITLE         85578 non-null  object \n",
      " 4     Type        85579 non-null  object \n",
      " 5   release Year  85579 non-null  int64  \n",
      " 6   genres        85579 non-null  object \n",
      " 7   imdb sc0re    80970 non-null  float64\n",
      " 8   imdb v0tes    80853 non-null  float64\n",
      "dtypes: float64(2), int64(1), object(6)\n",
      "memory usage: 5.9+ MB\n"
     ]
    }
   ],
   "source": [
    "# obtaining general information about the data in df\n",
    "df.info()"
   ]
  },
  {
   "cell_type": "markdown",
   "id": "e91f62a7",
   "metadata": {},
   "source": [
    "The table contains nine columns. The majority store the same data type: object. The only exceptions are `'release Year'` (int64 type), `'imdb sc0re'` (float64 type) and `'imdb v0tes'` (float64 type). Scores and votes will be used in our analysis, so it's important to verify that they are present in the dataframe in the appropriate numeric format. Three columns (`'TITLE'`, `'imdb sc0re'` and `'imdb v0tes'`) have missing values.\n",
    "\n",
    "According to the documentation:\n",
    "- `'name'` — actor/director's name and last name\n",
    "- `'Character'` — character played (for actors)\n",
    "- `'r0le '` — the person's contribution to the title (it can be in the capacity of either actor or director)\n",
    "- `'TITLE '` — title of the movie (show)\n",
    "- `'  Type'` — show or movie\n",
    "- `'release Year'` — year when movie (show) was released\n",
    "- `'genres'` — list of genres under which the movie (show) falls\n",
    "- `'imdb sc0re'` — score on IMDb\n",
    "- `'imdb v0tes'` — votes on IMDb\n",
    "\n",
    "We can see three issues with the column names:\n",
    "1. Some names are uppercase, while others are lowercase.\n",
    "2. There are names containing whitespace.\n",
    "3. A few column names have digit '0' instead of letter 'o'. \n"
   ]
  },
  {
   "cell_type": "markdown",
   "id": "29a3be1e",
   "metadata": {},
   "source": [
    "<div class=\"alert alert-block alert-success\">\n",
    "<b>Reviewer's comment</b> <a class=\"tocSkip\"></a>\n",
    "\n",
    "Great start!\n",
    "</div>"
   ]
  },
  {
   "cell_type": "markdown",
   "id": "4355de7b",
   "metadata": {},
   "source": [
    "### Conclusions <a id='data_review_conclusions'></a> \n",
    "\n",
    "Each row in the table stores data about a movie or show. The columns can be divided into two categories: the first is about the roles held by different people who worked on the movie or show (role, name of the actor or director, and character if the row is about an actor); the second category is information about the movie or show itself (title, release year, genre, imdb figures).\n",
    "\n",
    "It's clear that there is sufficient data to do the analysis and evaluate our assumption. However, to move forward, we need to preprocess the data."
   ]
  },
  {
   "cell_type": "markdown",
   "id": "c5dc9111",
   "metadata": {},
   "source": [
    "## Stage 2. Data preprocessing <a id='data_preprocessing'></a>\n",
    "Correct the formatting in the column headers and deal with the missing values. Then, check whether there are duplicates in the data."
   ]
  },
  {
   "cell_type": "code",
   "execution_count": 5,
   "id": "9c850d13",
   "metadata": {},
   "outputs": [
    {
     "name": "stdout",
     "output_type": "stream",
     "text": [
      "Index(['   name', '  Type', 'Character', 'TITLE', 'genres', 'imdb sc0re',\n",
      "       'imdb v0tes', 'r0le', 'release Year'],\n",
      "      dtype='object')\n"
     ]
    }
   ],
   "source": [
    "# the list of column names in the df table\n",
    "df = df.reindex(sorted(df.columns), axis=1)\n",
    "print(df.columns)"
   ]
  },
  {
   "cell_type": "markdown",
   "id": "5f966df9",
   "metadata": {},
   "source": [
    "Change the column names according to the rules of good style:\n",
    "* If the name has several words, use snake_case\n",
    "* All characters must be lowercase\n",
    "* Remove whitespace\n",
    "* Replace zero with letter 'o'"
   ]
  },
  {
   "cell_type": "code",
   "execution_count": 6,
   "id": "23a1dc11",
   "metadata": {},
   "outputs": [
    {
     "name": "stdout",
     "output_type": "stream",
     "text": [
      "Index(['name', 'type', 'character', 'title', 'genres', 'imdb_score',\n",
      "       'imdb_votes', 'role', 'release_year'],\n",
      "      dtype='object')\n"
     ]
    }
   ],
   "source": [
    "# renaming columns\n",
    "df.columns = df.columns.str.lower().str.replace(' ', '_').str.replace('0', 'o').str.replace('_n', 'n').str.replace('__', '')\n",
    "print(df.columns)"
   ]
  },
  {
   "cell_type": "markdown",
   "id": "464fbd04",
   "metadata": {},
   "source": [
    "Check the result. Print the names of the columns once more:"
   ]
  },
  {
   "cell_type": "code",
   "execution_count": 7,
   "id": "0eb6527f",
   "metadata": {},
   "outputs": [
    {
     "name": "stdout",
     "output_type": "stream",
     "text": [
      "Index(['name', 'type', 'character', 'title', 'genres', 'imdb_score',\n",
      "       'imdb_votes', 'role', 'release_year'],\n",
      "      dtype='object')\n"
     ]
    }
   ],
   "source": [
    "# checking result: the list of column names\n",
    "print(df.columns)"
   ]
  },
  {
   "cell_type": "markdown",
   "id": "8f082c03",
   "metadata": {},
   "source": [
    "<div class=\"alert alert-block alert-success\">\n",
    "<b>Reviewer's comment</b> <a class=\"tocSkip\"></a>\n",
    "\n",
    "Correct.\n",
    "    \n",
    "Pro tip: we can use df.rename() also.\n",
    "</div>"
   ]
  },
  {
   "cell_type": "markdown",
   "id": "14d9c319",
   "metadata": {},
   "source": [
    "### Missing values <a id='missing_values'></a>\n",
    "First, find the number of missing values in the table. To do so, combine two `pandas` methods:"
   ]
  },
  {
   "cell_type": "code",
   "execution_count": 8,
   "id": "21c427f2",
   "metadata": {},
   "outputs": [
    {
     "name": "stdout",
     "output_type": "stream",
     "text": [
      "name               0\n",
      "type               0\n",
      "character          0\n",
      "title              1\n",
      "genres             0\n",
      "imdb_score      4609\n",
      "imdb_votes      4726\n",
      "role               0\n",
      "release_year       0\n",
      "dtype: int64\n"
     ]
    }
   ],
   "source": [
    "# calculating missing values\n",
    "missing_values = df.isnull()\n",
    "missing_values_count = missing_values.sum()\n",
    "print(missing_values_count)"
   ]
  },
  {
   "cell_type": "markdown",
   "id": "c8272df3",
   "metadata": {},
   "source": [
    "Not all missing values affect the research: the single missing value in `'title'` is not critical. The missing values in columns `'imdb_score'` and `'imdb_votes'` represent around 6% of all records (4,609 and 4,726, respectively, of the total 85,579). This could potentially affect our research. To avoid this issue, we will drop rows with missing values in the `'imdb_score'` and `'imdb_votes'` columns."
   ]
  },
  {
   "cell_type": "code",
   "execution_count": 9,
   "id": "599d5550",
   "metadata": {},
   "outputs": [],
   "source": [
    "# dropping rows where columns with title, scores and votes have missing values\n",
    "df.dropna(subset=['title', 'imdb_score','imdb_votes'], inplace=True)"
   ]
  },
  {
   "cell_type": "markdown",
   "id": "2156887f",
   "metadata": {},
   "source": [
    "Make sure the table doesn't contain any more missing values. Count the missing values again."
   ]
  },
  {
   "cell_type": "code",
   "execution_count": 10,
   "id": "55c0b0ce",
   "metadata": {},
   "outputs": [
    {
     "name": "stdout",
     "output_type": "stream",
     "text": [
      "name            0\n",
      "type            0\n",
      "character       0\n",
      "title           0\n",
      "genres          0\n",
      "imdb_score      0\n",
      "imdb_votes      0\n",
      "role            0\n",
      "release_year    0\n",
      "dtype: int64\n"
     ]
    }
   ],
   "source": [
    "# counting missing values\n",
    "new_missing = df.isnull()\n",
    "new_count = new_missing.sum()\n",
    "print(new_count)"
   ]
  },
  {
   "cell_type": "markdown",
   "id": "a8a9d91f",
   "metadata": {},
   "source": [
    "<div class=\"alert alert-block alert-success\">\n",
    "<b>Reviewer's comment</b> <a class=\"tocSkip\"></a>\n",
    "\n",
    "Well done!\n",
    "</div>"
   ]
  },
  {
   "cell_type": "markdown",
   "id": "a7dc7aa0",
   "metadata": {},
   "source": [
    "### Duplicates <a id='duplicates'></a>\n",
    "Find the number of duplicate rows in the table using one command:"
   ]
  },
  {
   "cell_type": "code",
   "execution_count": 11,
   "id": "9227df01",
   "metadata": {},
   "outputs": [
    {
     "name": "stdout",
     "output_type": "stream",
     "text": [
      "6994\n"
     ]
    }
   ],
   "source": [
    "# counting duplicate rows\n",
    "duplicate_count = df.duplicated().sum()\n",
    "print(duplicate_count)"
   ]
  },
  {
   "cell_type": "markdown",
   "id": "5f6eb0fc",
   "metadata": {},
   "source": [
    "Review the duplicate rows to determine if removing them would distort our dataset."
   ]
  },
  {
   "cell_type": "code",
   "execution_count": 12,
   "id": "bcf32fcb",
   "metadata": {},
   "outputs": [
    {
     "name": "stdout",
     "output_type": "stream",
     "text": [
      "                    name   type                  character  \\\n",
      "7560       Philip Greene  MOVIE  Baseball Fan (uncredited)   \n",
      "14502           Dan Levy  MOVIE                   Reporter   \n",
      "18951   Nicolas Le Nev??   SHOW                    unknown   \n",
      "22454  John Iii Franklin   SHOW                    Himself   \n",
      "29556       Claudio Roca   SHOW                   Nicol?­s   \n",
      "\n",
      "                                 title                            genres  \\\n",
      "7560                   How Do You Know    ['comedy', 'drama', 'romance']   \n",
      "14502  A Very Harold & Kumar Christmas  ['comedy', 'fantasy', 'romance']   \n",
      "18951                       Sammy & Co         ['animation', 'european']   \n",
      "22454                    Last Chance U        ['documentation', 'sport']   \n",
      "29556                   Narcos: Mexico                ['drama', 'crime']   \n",
      "\n",
      "       imdb_score  imdb_votes      role  release_year  \n",
      "7560          5.4     50383.0     ACTOR          2010  \n",
      "14502         6.2     69562.0     ACTOR          2011  \n",
      "18951         5.7        31.0  DIRECTOR          2014  \n",
      "22454         8.4      6897.0     ACTOR          2016  \n",
      "29556         8.4     82042.0     ACTOR          2018  \n"
     ]
    }
   ],
   "source": [
    "# Produce table with duplicates (with original rows included) and review last 5 rows\n",
    "duplicate_df = df[df.duplicated(keep='last')]\n",
    "first_5_rows = duplicate_df.head(5)\n",
    "print(first_5_rows)"
   ]
  },
  {
   "cell_type": "markdown",
   "id": "6d41cc33",
   "metadata": {},
   "source": [
    "<div class=\"alert alert-block alert-warning\">\n",
    "<b>Reviewer's comment</b> <a class=\"tocSkip\"></a>\n",
    "\n",
    "It's better to use df.head() to increase readability.\n",
    "</div>"
   ]
  },
  {
   "cell_type": "markdown",
   "id": "a1ed6640",
   "metadata": {},
   "source": [
    "There are two clear duplicates in the printed rows. We can safely remove them.\n",
    "Call the `pandas` method for getting rid of duplicate rows:"
   ]
  },
  {
   "cell_type": "code",
   "execution_count": 13,
   "id": "724d5bc8",
   "metadata": {},
   "outputs": [],
   "source": [
    "# removing duplicate rows\n",
    "df.drop_duplicates(inplace=True)"
   ]
  },
  {
   "cell_type": "markdown",
   "id": "fc8c77ba",
   "metadata": {},
   "source": [
    "Check for duplicate rows once more to make sure you have removed all of them:"
   ]
  },
  {
   "cell_type": "code",
   "execution_count": 14,
   "id": "8091a9bc",
   "metadata": {},
   "outputs": [
    {
     "name": "stdout",
     "output_type": "stream",
     "text": [
      "no duplicates found\n"
     ]
    }
   ],
   "source": [
    "# checking for duplicates\n",
    "duplicates = df[df.duplicated()]\n",
    "if duplicates.empty:\n",
    "    print('no duplicates found')\n",
    "else:\n",
    "    print('data still have duplicates, and the duplicates are:')\n",
    "    "
   ]
  },
  {
   "cell_type": "markdown",
   "id": "d37cb958",
   "metadata": {},
   "source": [
    "<div class=\"alert alert-block alert-danger\">\n",
    "<b>Reviewer's comment</b> <a class=\"tocSkip\"></a>\n",
    "\n",
    "<s>Uh oh! Something went wrong — let's take a look!\n",
    "    \n",
    "We still have duplicates. df.drop_duplicates() performs NOT inplace operation. We need to set inplace=True or reassign df.\n",
    "    \n",
    "We can check duplicates with df.duplicated().sum() also.\n",
    "</div>"
   ]
  },
  {
   "cell_type": "markdown",
   "id": "1386eb87",
   "metadata": {},
   "source": [
    "<div class=\"alert alert-block alert-success\">\n",
    "<b>Reviewer's comment</b> <a class=\"tocSkip\"></a>\n",
    "\n",
    "Good job.\n",
    "</div>"
   ]
  },
  {
   "cell_type": "markdown",
   "id": "1d802b07",
   "metadata": {},
   "source": [
    "Now get rid of implicit duplicates in the `'type'` column. For example, the string `'SHOW'` can be written in different ways. These kinds of errors will also affect the result."
   ]
  },
  {
   "cell_type": "markdown",
   "id": "d5f987ed",
   "metadata": {},
   "source": [
    "Print a list of unique `'type'` names, sorted in alphabetical order. To do so:\n",
    "* Retrieve the intended dataframe column \n",
    "* Apply a sorting method to it\n",
    "* For the sorted column, call the method that will return all unique column values"
   ]
  },
  {
   "cell_type": "code",
   "execution_count": 15,
   "id": "3d7b0ac5",
   "metadata": {},
   "outputs": [
    {
     "name": "stdout",
     "output_type": "stream",
     "text": [
      "['MOVIE' 'SHOW' 'movies' 'shows' 'the movie' 'tv' 'tv series' 'tv show'\n",
      " 'tv shows']\n"
     ]
    }
   ],
   "source": [
    "# viewing unique type names\n",
    "types_sort = df['type']\n",
    "sorted_types = types_sort.sort_values()\n",
    "unique_types = sorted_types.unique()\n",
    "print(unique_types)"
   ]
  },
  {
   "cell_type": "markdown",
   "id": "a0c48687",
   "metadata": {},
   "source": [
    "<div class=\"alert alert-block alert-danger\">\n",
    "<b>Reviewer's comment</b> <a class=\"tocSkip\"></a>\n",
    "\n",
    "<s>Please elaborate error in this cell.\n",
    "    \n",
    "Also, do not forget to rerun whole project before sending!\n",
    "</div>"
   ]
  },
  {
   "cell_type": "markdown",
   "id": "ac6e8b18",
   "metadata": {},
   "source": [
    "Look through the list to find implicit duplicates of `'show'` (`'movie'` duplicates will be ignored since the assumption is about shows). These could be names written incorrectly or alternative names of the same genre.\n",
    "\n",
    "You will see the following implicit duplicates:\n",
    "* `'shows'`\n",
    "* `'SHOW'`\n",
    "* `'tv show'`\n",
    "* `'tv shows'`\n",
    "* `'tv series'`\n",
    "* `'tv'`\n",
    "\n",
    "To get rid of them, declare the function `replace_wrong_show()` with two parameters: \n",
    "* `wrong_shows_list=` — the list of duplicates\n",
    "* `correct_show=` — the string with the correct value\n",
    "\n",
    "The function should correct the names in the `'type'` column from the `df` table (i.e., replace each value from the `wrong_shows_list` list with the value in `correct_show`)."
   ]
  },
  {
   "cell_type": "code",
   "execution_count": 16,
   "id": "bff944f9",
   "metadata": {},
   "outputs": [
    {
     "name": "stdout",
     "output_type": "stream",
     "text": [
      "                     name       type                character        title  \\\n",
      "0          Robert De Niro      MOVIE            Travis Bickle  Taxi Driver   \n",
      "1            Jodie Foster      MOVIE            Iris Steensma  Taxi Driver   \n",
      "2           Albert Brooks      MOVIE                      Tom  Taxi Driver   \n",
      "3           Harvey Keitel      MOVIE  Matthew 'Sport' Higgins  Taxi Driver   \n",
      "4         Cybill Shepherd      MOVIE                    Betsy  Taxi Driver   \n",
      "...                   ...        ...                      ...          ...   \n",
      "85573       A??da Morales  the movie                  Maritza      Lokillo   \n",
      "85574    Adelaida Buscato  the movie               Mar??a Paz      Lokillo   \n",
      "85575  Luz Stella Luengas  the movie             Karen Bayona      Lokillo   \n",
      "85576        In??s Prieto  the movie                    Fanny      Lokillo   \n",
      "85578      Julian Gaviria  the movie                  unknown      Lokillo   \n",
      "\n",
      "                   genres  imdb_score  imdb_votes      role  release_year  \n",
      "0      ['drama', 'crime']         8.2    808582.0     ACTOR          1976  \n",
      "1      ['drama', 'crime']         8.2    808582.0     ACTOR          1976  \n",
      "2      ['drama', 'crime']         8.2    808582.0     ACTOR          1976  \n",
      "3      ['drama', 'crime']         8.2    808582.0     ACTOR          1976  \n",
      "4      ['drama', 'crime']         8.2    808582.0     ACTOR          1976  \n",
      "...                   ...         ...         ...       ...           ...  \n",
      "85573          ['comedy']         3.8        68.0     ACTOR          2021  \n",
      "85574          ['comedy']         3.8        68.0     ACTOR          2021  \n",
      "85575          ['comedy']         3.8        68.0     ACTOR          2021  \n",
      "85576          ['comedy']         3.8        68.0     ACTOR          2021  \n",
      "85578          ['comedy']         3.8        68.0  DIRECTOR          2021  \n",
      "\n",
      "[73859 rows x 9 columns]\n"
     ]
    }
   ],
   "source": [
    "# function for replacing implicit duplicates\n",
    "def replace_wrong_show(df, wrong_shows_list, correct_show):\n",
    "    for wrong_show in wrong_shows_list:\n",
    "        df['type']= df['type'].replace(wrong_show, correct_show)\n",
    "    return df\n",
    "wrong_shows_list = ['shows', 'SHOW', 'tv show', 'tv shows', 'tv series', 'tv']\n",
    "correct_show = 'SHOW'\n",
    "df = replace_wrong_show(df, wrong_shows_list, correct_show)\n",
    "print(df)"
   ]
  },
  {
   "cell_type": "markdown",
   "id": "d02d13a6",
   "metadata": {},
   "source": [
    "Call `replace_wrong_show()` and pass it arguments so that it clears implicit duplicates and replaces them with `SHOW`:"
   ]
  },
  {
   "cell_type": "code",
   "execution_count": 17,
   "id": "a2217e53",
   "metadata": {},
   "outputs": [
    {
     "name": "stdout",
     "output_type": "stream",
     "text": [
      "                     name   type                character        title  \\\n",
      "0          Robert De Niro  MOVIE            Travis Bickle  Taxi Driver   \n",
      "1            Jodie Foster  MOVIE            Iris Steensma  Taxi Driver   \n",
      "2           Albert Brooks  MOVIE                      Tom  Taxi Driver   \n",
      "3           Harvey Keitel  MOVIE  Matthew 'Sport' Higgins  Taxi Driver   \n",
      "4         Cybill Shepherd  MOVIE                    Betsy  Taxi Driver   \n",
      "...                   ...    ...                      ...          ...   \n",
      "85573       A??da Morales  MOVIE                  Maritza      Lokillo   \n",
      "85574    Adelaida Buscato  MOVIE               Mar??a Paz      Lokillo   \n",
      "85575  Luz Stella Luengas  MOVIE             Karen Bayona      Lokillo   \n",
      "85576        In??s Prieto  MOVIE                    Fanny      Lokillo   \n",
      "85578      Julian Gaviria  MOVIE                  unknown      Lokillo   \n",
      "\n",
      "                   genres  imdb_score  imdb_votes      role  release_year  \n",
      "0      ['drama', 'crime']         8.2    808582.0     ACTOR          1976  \n",
      "1      ['drama', 'crime']         8.2    808582.0     ACTOR          1976  \n",
      "2      ['drama', 'crime']         8.2    808582.0     ACTOR          1976  \n",
      "3      ['drama', 'crime']         8.2    808582.0     ACTOR          1976  \n",
      "4      ['drama', 'crime']         8.2    808582.0     ACTOR          1976  \n",
      "...                   ...         ...         ...       ...           ...  \n",
      "85573          ['comedy']         3.8        68.0     ACTOR          2021  \n",
      "85574          ['comedy']         3.8        68.0     ACTOR          2021  \n",
      "85575          ['comedy']         3.8        68.0     ACTOR          2021  \n",
      "85576          ['comedy']         3.8        68.0     ACTOR          2021  \n",
      "85578          ['comedy']         3.8        68.0  DIRECTOR          2021  \n",
      "\n",
      "[73859 rows x 9 columns]\n"
     ]
    }
   ],
   "source": [
    "# removing implicit duplicates\n",
    "def replace_wrong_movie(df, wrong_movies_list, correct_movie):\n",
    "    for wrong_movie in wrong_movies_list:\n",
    "        df['type']= df['type'].replace(wrong_movie, correct_movie)\n",
    "    return df\n",
    "wrong_movies_list = ['movies', 'the movie']\n",
    "correct_movie = 'MOVIE'\n",
    "df = replace_wrong_movie(df, wrong_movies_list, correct_movie)\n",
    "print(df)"
   ]
  },
  {
   "cell_type": "markdown",
   "id": "318b09f7",
   "metadata": {},
   "source": [
    "Make sure the duplicate names are removed. Print the list of unique values from the `'type'` column:"
   ]
  },
  {
   "cell_type": "code",
   "execution_count": 18,
   "id": "25d49d73",
   "metadata": {},
   "outputs": [
    {
     "name": "stdout",
     "output_type": "stream",
     "text": [
      "['MOVIE' 'SHOW']\n"
     ]
    }
   ],
   "source": [
    "# viewing unique genre names\n",
    "cleaned_names = df['name'].drop_duplicates()\n",
    "uni_types = df['type']\n",
    "sor_types = uni_types.unique()\n",
    "print(sor_types)"
   ]
  },
  {
   "cell_type": "markdown",
   "id": "e8703579",
   "metadata": {},
   "source": [
    "<div class=\"alert alert-block alert-success\">\n",
    "<b>Reviewer's comment</b> <a class=\"tocSkip\"></a>\n",
    "\n",
    "Well done!\n",
    "</div>"
   ]
  },
  {
   "cell_type": "markdown",
   "id": "18b2049e",
   "metadata": {},
   "source": [
    "### Conclusions <a id='data_preprocessing_conclusions'></a>\n",
    "We detected three issues with the data:\n",
    "\n",
    "- Incorrect header styles\n",
    "- Missing values\n",
    "- Duplicate rows and implicit duplicates\n",
    "\n",
    "The headers have been cleaned up to make processing the table simpler.\n",
    "\n",
    "All rows with missing values have been removed. \n",
    "\n",
    "The absence of duplicates will make the results more precise and easier to understand.\n",
    "\n",
    "Now we can move on to our analysis of the prepared data."
   ]
  },
  {
   "cell_type": "markdown",
   "id": "1aa0f1b1",
   "metadata": {},
   "source": [
    "## Stage 3. Data analysis <a id='hypotheses'></a>"
   ]
  },
  {
   "cell_type": "markdown",
   "id": "f8fb6a0e",
   "metadata": {},
   "source": [
    "Based on the previous project stages, you can now define how the assumption will be checked. Calculate the average amount of votes for each score (this data is available in the `imdb_score` and `imdb_votes` columns), and then check how these averages relate to each other. If the averages for shows with the highest scores are bigger than those for shows with lower scores, the assumption appears to be true.\n",
    "\n",
    "Based on this, complete the following steps:\n",
    "\n",
    "- Filter the dataframe to only include shows released in 1999 or later.\n",
    "- Group scores into buckets by rounding the values of the appropriate column (a set of 1-10 integers will help us make the outcome of our calculations more evident without damaging the quality of our research).\n",
    "- Identify outliers among scores based on their number of votes, and exclude scores with few votes.\n",
    "- Calculate the average votes for each score and check whether the assumption matches the results."
   ]
  },
  {
   "cell_type": "markdown",
   "id": "0ea2cb51",
   "metadata": {},
   "source": [
    "To filter the dataframe and only include shows released in 1999 or later, you will take two steps. First, keep only titles published in 1999 or later in our dataframe. Then, filter the table to only contain shows (movies will be removed)."
   ]
  },
  {
   "cell_type": "code",
   "execution_count": 19,
   "id": "6a704aa1",
   "metadata": {},
   "outputs": [
    {
     "name": "stdout",
     "output_type": "stream",
     "text": [
      "                     name   type            character     title  \\\n",
      "1664          Jeff Probst   SHOW       Himself - Host  Survivor   \n",
      "1955     Benicio del Toro  MOVIE  Franky Four Fingers    Snatch   \n",
      "1956        Dennis Farina  MOVIE           Cousin Avi    Snatch   \n",
      "1957         Vinnie Jones  MOVIE    Bullet Tooth Tony    Snatch   \n",
      "1958            Brad Pitt  MOVIE        Mickey O'Neil    Snatch   \n",
      "...                   ...    ...                  ...       ...   \n",
      "85573       A??da Morales  MOVIE              Maritza   Lokillo   \n",
      "85574    Adelaida Buscato  MOVIE           Mar??a Paz   Lokillo   \n",
      "85575  Luz Stella Luengas  MOVIE         Karen Bayona   Lokillo   \n",
      "85576        In??s Prieto  MOVIE                Fanny   Lokillo   \n",
      "85578      Julian Gaviria  MOVIE              unknown   Lokillo   \n",
      "\n",
      "                    genres  imdb_score  imdb_votes      role  release_year  \n",
      "1664           ['reality']         7.4     24687.0     ACTOR          2000  \n",
      "1955   ['crime', 'comedy']         8.3    841435.0     ACTOR          2000  \n",
      "1956   ['crime', 'comedy']         8.3    841435.0     ACTOR          2000  \n",
      "1957   ['crime', 'comedy']         8.3    841435.0     ACTOR          2000  \n",
      "1958   ['crime', 'comedy']         8.3    841435.0     ACTOR          2000  \n",
      "...                    ...         ...         ...       ...           ...  \n",
      "85573           ['comedy']         3.8        68.0     ACTOR          2021  \n",
      "85574           ['comedy']         3.8        68.0     ACTOR          2021  \n",
      "85575           ['comedy']         3.8        68.0     ACTOR          2021  \n",
      "85576           ['comedy']         3.8        68.0     ACTOR          2021  \n",
      "85578           ['comedy']         3.8        68.0  DIRECTOR          2021  \n",
      "\n",
      "[69881 rows x 9 columns]\n"
     ]
    }
   ],
   "source": [
    "# using conditional indexing modify df so it has only titles released after 1999 (with 1999 included)\n",
    "# give the slice of dataframe new name\n",
    "data_after = df['release_year']>= 1999\n",
    "after_1999 = df[data_after]\n",
    "after_1999_name = 'titles_released_after_1999'\n",
    "print(after_1999)\n"
   ]
  },
  {
   "cell_type": "code",
   "execution_count": 20,
   "id": "128dc6a9",
   "metadata": {
    "scrolled": true
   },
   "outputs": [
    {
     "name": "stdout",
     "output_type": "stream",
     "text": [
      "                      name  type                character      title  \\\n",
      "1664           Jeff Probst  SHOW           Himself - Host   Survivor   \n",
      "2076         Mayumi Tanaka  SHOW  Monkey D. Luffy (voice)  One Piece   \n",
      "2077          Kazuya Nakai  SHOW     Roronoa Zoro (voice)  One Piece   \n",
      "2078         Akemi Okamura  SHOW             Nami (voice)  One Piece   \n",
      "2079      Kappei Yamaguchi  SHOW            Usopp (voice)  One Piece   \n",
      "...                    ...   ...                      ...        ...   \n",
      "85433     Maneerat Kam-Uan  SHOW                       Ae  Let's Eat   \n",
      "85434    Rudklao Amratisha  SHOW                  unknown  Let's Eat   \n",
      "85435      Jaturong Mokjok  SHOW                  unknown  Let's Eat   \n",
      "85436     Pisamai Wilaisak  SHOW                  unknown  Let's Eat   \n",
      "85437  Sarawut Wichiensarn  SHOW                  unknown  Let's Eat   \n",
      "\n",
      "                                                  genres  imdb_score  \\\n",
      "1664                                         ['reality']         7.4   \n",
      "2076   ['animation', 'action', 'comedy', 'drama', 'fa...         8.8   \n",
      "2077   ['animation', 'action', 'comedy', 'drama', 'fa...         8.8   \n",
      "2078   ['animation', 'action', 'comedy', 'drama', 'fa...         8.8   \n",
      "2079   ['animation', 'action', 'comedy', 'drama', 'fa...         8.8   \n",
      "...                                                  ...         ...   \n",
      "85433                                ['drama', 'comedy']         8.2   \n",
      "85434                                ['drama', 'comedy']         8.2   \n",
      "85435                                ['drama', 'comedy']         8.2   \n",
      "85436                                ['drama', 'comedy']         8.2   \n",
      "85437                                ['drama', 'comedy']         8.2   \n",
      "\n",
      "       imdb_votes      role  release_year  \n",
      "1664      24687.0     ACTOR          2000  \n",
      "2076     117129.0     ACTOR          1999  \n",
      "2077     117129.0     ACTOR          1999  \n",
      "2078     117129.0     ACTOR          1999  \n",
      "2079     117129.0     ACTOR          1999  \n",
      "...           ...       ...           ...  \n",
      "85433         5.0     ACTOR          2021  \n",
      "85434         5.0     ACTOR          2021  \n",
      "85435         5.0     ACTOR          2021  \n",
      "85436         5.0     ACTOR          2021  \n",
      "85437         5.0  DIRECTOR          2021  \n",
      "\n",
      "[13430 rows x 9 columns]\n"
     ]
    }
   ],
   "source": [
    "# repeat conditional indexing so df has only shows (movies are removed as result)\n",
    "after_1999_shows = df[(df['type']=='SHOW')&(df['release_year']>=1999)]\n",
    "print(after_1999_shows)"
   ]
  },
  {
   "cell_type": "markdown",
   "id": "3a456f98",
   "metadata": {},
   "source": [
    "<div class=\"alert alert-block alert-danger\">\n",
    "<b>Reviewer's comment</b> <a class=\"tocSkip\"></a>\n",
    "\n",
    "<s>Something needs to be changed, but don't worry, you've got this.\n",
    "    \n",
    "We got empty dataframe because we do not have type \"show\", we have \"SHOW\".\n",
    "    \n",
    "Also, we need to work with after_1999_shows in next cells.\n",
    "</div>"
   ]
  },
  {
   "cell_type": "markdown",
   "id": "9648040c",
   "metadata": {},
   "source": [
    "The scores that are to be grouped should be rounded. For instance, titles with scores like 7.8, 8.1, and 8.3 will all be placed in the same bucket with a score of 8."
   ]
  },
  {
   "cell_type": "code",
   "execution_count": 21,
   "id": "54bbd5c0",
   "metadata": {},
   "outputs": [
    {
     "name": "stdout",
     "output_type": "stream",
     "text": [
      "                      name  type                character      title  \\\n",
      "1664           Jeff Probst  SHOW           Himself - Host   Survivor   \n",
      "2076         Mayumi Tanaka  SHOW  Monkey D. Luffy (voice)  One Piece   \n",
      "2077          Kazuya Nakai  SHOW     Roronoa Zoro (voice)  One Piece   \n",
      "2078         Akemi Okamura  SHOW             Nami (voice)  One Piece   \n",
      "2079      Kappei Yamaguchi  SHOW            Usopp (voice)  One Piece   \n",
      "...                    ...   ...                      ...        ...   \n",
      "85433     Maneerat Kam-Uan  SHOW                       Ae  Let's Eat   \n",
      "85434    Rudklao Amratisha  SHOW                  unknown  Let's Eat   \n",
      "85435      Jaturong Mokjok  SHOW                  unknown  Let's Eat   \n",
      "85436     Pisamai Wilaisak  SHOW                  unknown  Let's Eat   \n",
      "85437  Sarawut Wichiensarn  SHOW                  unknown  Let's Eat   \n",
      "\n",
      "                                                  genres  imdb_score  \\\n",
      "1664                                         ['reality']         7.4   \n",
      "2076   ['animation', 'action', 'comedy', 'drama', 'fa...         8.8   \n",
      "2077   ['animation', 'action', 'comedy', 'drama', 'fa...         8.8   \n",
      "2078   ['animation', 'action', 'comedy', 'drama', 'fa...         8.8   \n",
      "2079   ['animation', 'action', 'comedy', 'drama', 'fa...         8.8   \n",
      "...                                                  ...         ...   \n",
      "85433                                ['drama', 'comedy']         8.2   \n",
      "85434                                ['drama', 'comedy']         8.2   \n",
      "85435                                ['drama', 'comedy']         8.2   \n",
      "85436                                ['drama', 'comedy']         8.2   \n",
      "85437                                ['drama', 'comedy']         8.2   \n",
      "\n",
      "       imdb_votes      role  release_year  new_score  \n",
      "1664      24687.0     ACTOR          2000        7.0  \n",
      "2076     117129.0     ACTOR          1999        9.0  \n",
      "2077     117129.0     ACTOR          1999        9.0  \n",
      "2078     117129.0     ACTOR          1999        9.0  \n",
      "2079     117129.0     ACTOR          1999        9.0  \n",
      "...           ...       ...           ...        ...  \n",
      "85433         5.0     ACTOR          2021        8.0  \n",
      "85434         5.0     ACTOR          2021        8.0  \n",
      "85435         5.0     ACTOR          2021        8.0  \n",
      "85436         5.0     ACTOR          2021        8.0  \n",
      "85437         5.0  DIRECTOR          2021        8.0  \n",
      "\n",
      "[13430 rows x 10 columns]\n"
     ]
    },
    {
     "name": "stderr",
     "output_type": "stream",
     "text": [
      "/tmp/ipykernel_44/164856994.py:4: SettingWithCopyWarning: \n",
      "A value is trying to be set on a copy of a slice from a DataFrame.\n",
      "Try using .loc[row_indexer,col_indexer] = value instead\n",
      "\n",
      "See the caveats in the documentation: https://pandas.pydata.org/pandas-docs/stable/user_guide/indexing.html#returning-a-view-versus-a-copy\n",
      "  after_1999_shows['new_score'] = df['imdb_score'].round()\n"
     ]
    }
   ],
   "source": [
    "# rounding column with scores\n",
    "\n",
    "#checking the outcome with tail()\n",
    "after_1999_shows['new_score'] = df['imdb_score'].round()\n",
    "\n",
    "print(after_1999_shows)"
   ]
  },
  {
   "cell_type": "markdown",
   "id": "36dbd00a",
   "metadata": {},
   "source": [
    "It is now time to identify outliers based on the number of votes."
   ]
  },
  {
   "cell_type": "code",
   "execution_count": 22,
   "id": "b8b55e95",
   "metadata": {},
   "outputs": [
    {
     "name": "stdout",
     "output_type": "stream",
     "text": [
      "imdb_votes\n",
      "5.0          2\n",
      "6.0          3\n",
      "7.0          2\n",
      "8.0          2\n",
      "9.0          1\n",
      "            ..\n",
      "497650.0     1\n",
      "511668.0     1\n",
      "956604.0     1\n",
      "1101055.0    1\n",
      "1775990.0    1\n",
      "Name: new_score, Length: 1488, dtype: int64\n"
     ]
    }
   ],
   "source": [
    "# Use groupby() for scores and count all unique values in each group, print the result\n",
    "unique_count = after_1999_shows.groupby('imdb_votes')['new_score'].nunique()\n",
    "print(unique_count)"
   ]
  },
  {
   "cell_type": "markdown",
   "id": "1ba6daae",
   "metadata": {},
   "source": [
    "Based on the aggregation performed, it is evident that scores 2 (24 voted shows), 3 (27 voted shows), and 10 (only 8 voted shows) are outliers. There isn't enough data for these scores for the average number of votes to be meaningful."
   ]
  },
  {
   "cell_type": "markdown",
   "id": "bd468c46",
   "metadata": {},
   "source": [
    "To obtain the mean numbers of votes for the selected scores (we identified a range of 4-9 as acceptable), use conditional filtering and grouping."
   ]
  },
  {
   "cell_type": "code",
   "execution_count": 23,
   "id": "d1867e0e",
   "metadata": {},
   "outputs": [
    {
     "name": "stdout",
     "output_type": "stream",
     "text": [
      "   new_score     imdb_votes\n",
      "0        4.0    5277.583333\n",
      "1        5.0    3143.942568\n",
      "2        6.0    3481.717322\n",
      "3        7.0    8727.068211\n",
      "4        8.0   30299.460967\n",
      "5        9.0  126904.109515\n"
     ]
    }
   ],
   "source": [
    "# filter dataframe using two conditions (scores to be in the range 4-9)\n",
    "filtered_df = after_1999_shows[(after_1999_shows['new_score'] >= 4)&(after_1999_shows['new_score'] <=9)]\n",
    "\n",
    "# group scores and corresponding average number of votes, reset index and print the result\n",
    "final_df = filtered_df.groupby('new_score')['imdb_votes'].mean().reset_index()\n",
    "print(final_df)"
   ]
  },
  {
   "cell_type": "markdown",
   "id": "96a66d14",
   "metadata": {},
   "source": [
    "Now for the final step! Round the column with the averages, rename both columns, and print the dataframe in descending order."
   ]
  },
  {
   "cell_type": "code",
   "execution_count": 24,
   "id": "5999051b",
   "metadata": {},
   "outputs": [
    {
     "name": "stdout",
     "output_type": "stream",
     "text": [
      "   scores  avg_votes\n",
      "5     9.0   126904.0\n",
      "4     8.0    30299.0\n",
      "3     7.0     8727.0\n",
      "2     6.0     3482.0\n",
      "1     5.0     3144.0\n",
      "0     4.0     5278.0\n"
     ]
    }
   ],
   "source": [
    "# round column with averages\n",
    "final_df['imdb_votes'] = final_df['imdb_votes'].round()\n",
    "\n",
    "# rename columns\n",
    "movies_shows = final_df.rename(columns={'new_score': 'scores', 'imdb_votes': 'avg_votes'})\n",
    "\n",
    "# print dataframe in descending order\n",
    "\n",
    "print(movies_shows.sort_values(by='scores', ascending=False))"
   ]
  },
  {
   "cell_type": "markdown",
   "id": "af07386d",
   "metadata": {},
   "source": [
    "The assumption macthes the analysis: the shows with the top 3 scores have the most amounts of votes."
   ]
  },
  {
   "cell_type": "markdown",
   "id": "ad10c237",
   "metadata": {},
   "source": [
    "<div class=\"alert alert-block alert-success\">\n",
    "<b>Reviewer's comment</b> <a class=\"tocSkip\"></a>\n",
    "\n",
    "Excellent!\n",
    "</div>"
   ]
  },
  {
   "cell_type": "markdown",
   "id": "84e29a37",
   "metadata": {},
   "source": [
    "## Conclusion <a id='hypotheses'></a>"
   ]
  },
  {
   "cell_type": "markdown",
   "id": "984766a3",
   "metadata": {},
   "source": [
    "The research done confirms that highly-rated shows released during the \"Golden Age\" of television also have the most votes. While shows with score 4 have more votes than ones with scores 5 and 6, the top three (scores 7-9) have the largest number. The data studied represents around 94% of the original set, so we can be confident in our findings."
   ]
  },
  {
   "cell_type": "markdown",
   "id": "ea312936",
   "metadata": {},
   "source": [
    "<div class=\"alert alert-block alert-warning\">\n",
    "<b>Overall reviewer's comment</b> <a class=\"tocSkip\"></a>\n",
    "\n",
    "Thank you so much for submitting your project!\n",
    "\n",
    "I've found some tiny mistakes in your project. They'll be easy to fix. Please check my comments.\n",
    "    \n",
    "Every issue with our code is a chance for us to learn something new =)\n",
    "\n",
    "</div>"
   ]
  },
  {
   "cell_type": "markdown",
   "id": "a7ccaa49",
   "metadata": {},
   "source": [
    "<div class=\"alert alert-block alert-warning\">\n",
    "<b>Overall reviewer's comment v2</b> <a class=\"tocSkip\"></a>\n",
    "\n",
    "I'm happy to see you've made a few corrections to your work. \n",
    "\n",
    "However, Stage 3 still needs a bit of work. Please check my comments.\n",
    "    \n",
    "One more time and you'll have it!\n",
    "\n",
    "</div>"
   ]
  },
  {
   "cell_type": "markdown",
   "id": "7d4922a3",
   "metadata": {},
   "source": [
    "<div class=\"alert alert-block alert-success\">\n",
    "<b>Overall reviewer's comment v3</b> <a class=\"tocSkip\"></a>\n",
    "\n",
    "Great improvement! \n",
    "\n",
    "I'm glad to say that your project has been accepted and you can go to the next sprint.\n",
    "\n",
    "</div>"
   ]
  },
  {
   "cell_type": "code",
   "execution_count": null,
   "id": "1523ebe6",
   "metadata": {},
   "outputs": [],
   "source": []
  }
 ],
 "metadata": {
  "kernelspec": {
   "display_name": "Python 3 (ipykernel)",
   "language": "python",
   "name": "python3"
  },
  "language_info": {
   "codemirror_mode": {
    "name": "ipython",
    "version": 3
   },
   "file_extension": ".py",
   "mimetype": "text/x-python",
   "name": "python",
   "nbconvert_exporter": "python",
   "pygments_lexer": "ipython3",
   "version": "3.9.5"
  },
  "toc": {
   "base_numbering": 1,
   "nav_menu": {},
   "number_sections": true,
   "sideBar": true,
   "skip_h1_title": true,
   "title_cell": "Table of Contents",
   "title_sidebar": "Contents",
   "toc_cell": false,
   "toc_position": {},
   "toc_section_display": true,
   "toc_window_display": false
  }
 },
 "nbformat": 4,
 "nbformat_minor": 5
}
